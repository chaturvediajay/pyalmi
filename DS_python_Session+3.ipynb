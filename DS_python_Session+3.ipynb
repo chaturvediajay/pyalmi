{
  "cells": [
    {
      "cell_type": "markdown",
      "metadata": {
        "id": "view-in-github",
        "colab_type": "text"
      },
      "source": [
        "<a href=\"https://colab.research.google.com/github/chaturvediajay/pyalmi/blob/main/DS_python_Session%2B3.ipynb\" target=\"_parent\"><img src=\"https://colab.research.google.com/assets/colab-badge.svg\" alt=\"Open In Colab\"/></a>"
      ]
    },
    {
      "cell_type": "markdown",
      "metadata": {
        "id": "Io1sOF5_bDTN"
      },
      "source": [
        "<h2 style = \"color:Brown\"> Relational Operators</h2>\n",
        "\n",
        "- compares the values on either side of the opeartor and returns and boolean value as True or False."
      ]
    },
    {
      "cell_type": "markdown",
      "metadata": {
        "id": "GCgrbRy1bDTf"
      },
      "source": [
        "#### equal to operator"
      ]
    },
    {
      "cell_type": "code",
      "execution_count": null,
      "metadata": {
        "id": "F_cprpKzbDTg",
        "outputId": "fc562ec4-a315-4e6c-a1b9-703fb40fdb0f"
      },
      "outputs": [
        {
          "data": {
            "text/plain": [
              "True"
            ]
          },
          "execution_count": 1,
          "metadata": {},
          "output_type": "execute_result"
        }
      ],
      "source": [
        "10 == 10"
      ]
    },
    {
      "cell_type": "markdown",
      "metadata": {
        "id": "6T0cKKWfbDTp"
      },
      "source": [
        "<h3 style = \"color:Red\">Alert!!!</h3>\n",
        "\n",
        "##### = is an assignment operator, to assign value of an expression on right to a variable on left."
      ]
    },
    {
      "cell_type": "code",
      "execution_count": null,
      "metadata": {
        "id": "cIYvF889bDTq",
        "outputId": "da68df47-40e8-4c8d-9efe-327a7eed610c"
      },
      "outputs": [
        {
          "data": {
            "text/plain": [
              "False"
            ]
          },
          "execution_count": 2,
          "metadata": {},
          "output_type": "execute_result"
        }
      ],
      "source": [
        "10 == 5"
      ]
    },
    {
      "cell_type": "markdown",
      "metadata": {
        "id": "H5Q6cGc9bDTr"
      },
      "source": [
        "#### not equal to operator"
      ]
    },
    {
      "cell_type": "code",
      "execution_count": null,
      "metadata": {
        "id": "VET70ZpGbDTs",
        "outputId": "cd769a2a-b442-4aec-be37-e6263b95f0c4"
      },
      "outputs": [
        {
          "data": {
            "text/plain": [
              "True"
            ]
          },
          "execution_count": 3,
          "metadata": {},
          "output_type": "execute_result"
        }
      ],
      "source": [
        "10 != 5"
      ]
    },
    {
      "cell_type": "markdown",
      "metadata": {
        "id": "SRgvrqR1bDTt"
      },
      "source": [
        "#### greater than operator"
      ]
    },
    {
      "cell_type": "code",
      "execution_count": null,
      "metadata": {
        "id": "fxl47O4dbDTt",
        "outputId": "3af27b86-0561-441b-8854-7f5df42e64a7"
      },
      "outputs": [
        {
          "data": {
            "text/plain": [
              "True"
            ]
          },
          "execution_count": 4,
          "metadata": {},
          "output_type": "execute_result"
        }
      ],
      "source": [
        "10 > 5"
      ]
    },
    {
      "cell_type": "markdown",
      "metadata": {
        "id": "cMYpLAFpbDTu"
      },
      "source": [
        "#### less than operator"
      ]
    },
    {
      "cell_type": "code",
      "execution_count": null,
      "metadata": {
        "id": "jS8TltTCbDTv",
        "outputId": "2a2c45c1-391d-4c50-b494-3976b286c97a"
      },
      "outputs": [
        {
          "data": {
            "text/plain": [
              "False"
            ]
          },
          "execution_count": 5,
          "metadata": {},
          "output_type": "execute_result"
        }
      ],
      "source": [
        "10 < 5"
      ]
    },
    {
      "cell_type": "markdown",
      "metadata": {
        "id": "EgHn2XtdbDTw"
      },
      "source": [
        "#### greater than equal to operator"
      ]
    },
    {
      "cell_type": "code",
      "execution_count": null,
      "metadata": {
        "id": "8AZgbi7ibDTx",
        "outputId": "7bc7f0d8-ce00-411c-9f0b-1665db2d0261"
      },
      "outputs": [
        {
          "data": {
            "text/plain": [
              "False"
            ]
          },
          "execution_count": 6,
          "metadata": {},
          "output_type": "execute_result"
        }
      ],
      "source": [
        "10 <= 5"
      ]
    },
    {
      "cell_type": "markdown",
      "metadata": {
        "id": "Gq3MNsLgbDTx"
      },
      "source": [
        "#### less than equal to operator"
      ]
    },
    {
      "cell_type": "code",
      "execution_count": null,
      "metadata": {
        "id": "VBsay1LbbDTy",
        "outputId": "9308124f-769c-4adb-d79e-6c8150bb7d31"
      },
      "outputs": [
        {
          "data": {
            "text/plain": [
              "True"
            ]
          },
          "execution_count": 7,
          "metadata": {},
          "output_type": "execute_result"
        }
      ],
      "source": [
        "10 >= 5"
      ]
    },
    {
      "cell_type": "markdown",
      "metadata": {
        "id": "XfiTITizbDTy"
      },
      "source": [
        "<h2 style = \"color:Brown\">Decision Making"
      ]
    },
    {
      "cell_type": "markdown",
      "metadata": {
        "id": "4ePv9bF4bDTy"
      },
      "source": [
        "#### Write a program to check value in variable x is even or odd"
      ]
    },
    {
      "cell_type": "code",
      "execution_count": null,
      "metadata": {
        "id": "0GI_2MK0bDTz",
        "outputId": "873ecfcc-4dd7-4ee2-8b89-27c604180dd3"
      },
      "outputs": [
        {
          "name": "stdout",
          "output_type": "stream",
          "text": [
            "10 is even number\n"
          ]
        }
      ],
      "source": [
        "x = 10\n",
        "\n",
        "if x % 2 == 0:\n",
        "    print(x, \"is even number\")\n",
        "else:\n",
        "    print(x, \"is odd number\")"
      ]
    },
    {
      "cell_type": "markdown",
      "metadata": {
        "id": "_u1lvEBCbDTz"
      },
      "source": [
        "#### Write a program to accept age of visitor and allows him to PM's party only if he is above 60 years or below 18 years of age"
      ]
    },
    {
      "cell_type": "code",
      "execution_count": null,
      "metadata": {
        "id": "st2uNl2TbDT2"
      },
      "outputs": [],
      "source": [
        "x = int(input(\"Enter your age : \"))\n",
        "\n",
        "if x <= 18 or x >= 60 :\n",
        "    print(\"Welcome to party\")\n",
        "else:\n",
        "    print(\"Sorry!! you do not fit in PM's age criteria\")"
      ]
    },
    {
      "cell_type": "markdown",
      "metadata": {
        "id": "Rxk3r58-bDT6"
      },
      "source": [
        "#### Write a program which offers various discounts on purchase bills"
      ]
    },
    {
      "cell_type": "code",
      "execution_count": null,
      "metadata": {
        "id": "aQOeMjxxbDT6"
      },
      "outputs": [],
      "source": [
        "shoppinng_total = 5500\n",
        "\n",
        "if shoppinng_total >= 5000:\n",
        "    print(\"You won a discount voucher of flat 1000 on next purchase\")\n",
        "elif shoppinng_total >= 2500:\n",
        "    print(\"You won a discount voucher of flat 500 on next purchase\")\n",
        "elif shoppinng_total >= 1000:\n",
        "    print(\"You won a discount voucher of flat 100 on next purchase\")    \n",
        "else:\n",
        "    print(\"OOPS!! no discount for you!!!\")"
      ]
    },
    {
      "cell_type": "markdown",
      "metadata": {
        "id": "dm4JOdk1bDT7"
      },
      "source": [
        "#### Write a program to accepts three numbers from user and print the largest of three numbers"
      ]
    },
    {
      "cell_type": "code",
      "execution_count": null,
      "metadata": {
        "id": "A1eV2DgxbDT7",
        "outputId": "f30f82f8-3603-47e8-e869-185da4e92fcf"
      },
      "outputs": [
        {
          "name": "stdout",
          "output_type": "stream",
          "text": [
            "Enter year to check India made it to Finals: 2003\n",
            "India made it to Finals\n"
          ]
        }
      ],
      "source": [
        "world_cups = {2019 : ['England', 'New-Zeland'], 2015:[\"Australia\", \"New Zeland\"], 2011 : [\"India\", \"Sri Lanka\"], 2007: [\"Australia\", \"Sri Lanka\"], 2003: [\"Australia\", \"India\"]}\n",
        "\n",
        "year = int(input(\"Enter year to check India made it to Finals in 20th century : \"))\n",
        "\n",
        "if year in world_cups :\n",
        "    if \"India\" in world_cups[year] :\n",
        "        print(\"India made it to Finals\")\n",
        "    else:\n",
        "        print(\"India could not make it to Finals\")\n",
        "        \n",
        "else:\n",
        "    print(\"World cup wasnt played in\", year)\n"
      ]
    },
    {
      "cell_type": "markdown",
      "metadata": {
        "id": "qytICKOObDT8"
      },
      "source": [
        "<h2 style = \"color:Brown\">Iteration"
      ]
    },
    {
      "cell_type": "code",
      "execution_count": null,
      "metadata": {
        "id": "LGFdhXAEbDT9"
      },
      "outputs": [],
      "source": [
        "# iterate over list of integers\n",
        "\n",
        "l = [1,3,4,2,5,6]\n",
        "for i in l : \n",
        "    print(i)"
      ]
    },
    {
      "cell_type": "code",
      "execution_count": null,
      "metadata": {
        "id": "tFUxnEFobDT9"
      },
      "outputs": [],
      "source": [
        "# iterate over a string\n",
        "\n",
        "string = \"Himachal Pradesh\"\n",
        "for ch in string:\n",
        "    print(ch)"
      ]
    },
    {
      "cell_type": "code",
      "execution_count": null,
      "metadata": {
        "id": "lIRbY0_0bDT9"
      },
      "outputs": [],
      "source": [
        "# iterate over a string - modify print using end\n",
        "\n",
        "string = \"Himachal Pradesh\"\n",
        "for ch in string:\n",
        "    print(ch, end = \":\") # default value of end = \"\\n\""
      ]
    },
    {
      "cell_type": "code",
      "execution_count": null,
      "metadata": {
        "id": "Fxl0B_0vbDT-",
        "outputId": "4791cad1-ea5b-4e91-a78a-32464b51624d"
      },
      "outputs": [
        {
          "name": "stdout",
          "output_type": "stream",
          "text": [
            "1 ['Sam', 24]\n",
            "2 ['Sharma', 25]\n",
            "3 ['Saina', 26]\n",
            "4 ['Saif', 24]\n",
            "5 ['Varun', 27]\n"
          ]
        }
      ],
      "source": [
        "# iterating over a dictionary\n",
        "\n",
        "students_data = {1:['Sam', 24] , 2:['Sharma',25], 3:['Saina', 26], 4:['Saif',24], 5:['Varun',27]}\n",
        "for key, val in students_data.items():\n",
        "    print(key, val)"
      ]
    },
    {
      "cell_type": "code",
      "execution_count": null,
      "metadata": {
        "id": "Islerb_7bDUA",
        "outputId": "f22a19bb-4a80-411b-cd54-3b68c831828a"
      },
      "outputs": [
        {
          "name": "stdout",
          "output_type": "stream",
          "text": [
            "1\n",
            "2\n",
            "3\n",
            "4\n",
            "5\n"
          ]
        }
      ],
      "source": [
        "# iterate over keys of a dictionary\n",
        "for key in students_data.keys():\n",
        "    print(key)"
      ]
    },
    {
      "cell_type": "code",
      "execution_count": null,
      "metadata": {
        "id": "9zJeDlQEbDUA"
      },
      "outputs": [],
      "source": [
        "# Generate range of values.\n",
        "range(1, 101)"
      ]
    },
    {
      "cell_type": "code",
      "execution_count": null,
      "metadata": {
        "id": "KH_GDNmWbDUB"
      },
      "outputs": [],
      "source": [
        "# Iterate over range of values\n",
        "\n",
        "for i in range(1, 101):\n",
        "    print(i, end = \" \")"
      ]
    },
    {
      "cell_type": "code",
      "execution_count": null,
      "metadata": {
        "id": "Rkn2yuYDbDUB",
        "outputId": "9fe2ed53-26f0-4f0f-e43c-ef6c09653774"
      },
      "outputs": [
        {
          "data": {
            "text/plain": [
              "range(100, 0, -1)"
            ]
          },
          "execution_count": 22,
          "metadata": {},
          "output_type": "execute_result"
        }
      ],
      "source": [
        "# different variations in range\n",
        "\n",
        "range(1, 100, 2) # gives numbers from 1 to 100 with a step count of 2\n",
        "range(100, 0, -1) # gives a reversed sequence of numbers from 100 to 1"
      ]
    },
    {
      "cell_type": "code",
      "execution_count": null,
      "metadata": {
        "id": "v-Bu4gFobDUB",
        "outputId": "4e1ba1d7-7702-4868-c924-d9db34895ba2"
      },
      "outputs": [
        {
          "name": "stdout",
          "output_type": "stream",
          "text": [
            "x\n",
            "x\n",
            "abc\n",
            "abc\n",
            "quit\n",
            "quit\n"
          ]
        }
      ],
      "source": [
        "ch = \"\"\n",
        "while ch != \"quit\":\n",
        "    ch = input()\n",
        "    print(ch)"
      ]
    },
    {
      "cell_type": "code",
      "execution_count": null,
      "metadata": {
        "id": "-H-m6vxQbDUC",
        "outputId": "739b1dfc-8440-4910-80ee-23dc849921a7"
      },
      "outputs": [
        {
          "name": "stdout",
          "output_type": "stream",
          "text": [
            "x\n",
            "x\n",
            "c\n",
            "c\n",
            "quit\n"
          ]
        }
      ],
      "source": [
        "while True:\n",
        "    ch = input()\n",
        "    if ch == \"quit\":\n",
        "        break\n",
        "    print(ch)"
      ]
    },
    {
      "cell_type": "code",
      "execution_count": null,
      "metadata": {
        "id": "2cuxhbU-bDUC",
        "outputId": "ade5c263-7ef0-400b-8d37-6a7030159b18"
      },
      "outputs": [
        {
          "name": "stdout",
          "output_type": "stream",
          "text": [
            "3 6 9 12 18 21 24 27 33 36 39 42 48 51 "
          ]
        }
      ],
      "source": [
        "x = 0\n",
        "while x <=50 :\n",
        "    x += 3\n",
        "    if x % 5 == 0 :\n",
        "        continue   \n",
        "    print(x, end = \" \")\n",
        "           "
      ]
    },
    {
      "cell_type": "markdown",
      "metadata": {
        "id": "-FLGdTWnbDUD"
      },
      "source": [
        "<h2 style = \"color:Brown\">Comprehensions"
      ]
    },
    {
      "cell_type": "code",
      "execution_count": null,
      "metadata": {
        "id": "ctQb4j_DbDUD",
        "outputId": "fda7cbe9-1ecc-49cb-84a7-127b8824c645"
      },
      "outputs": [
        {
          "data": {
            "text/plain": [
              "[11, 5, 4, 6, 14]"
            ]
          },
          "execution_count": 22,
          "metadata": {},
          "output_type": "execute_result"
        }
      ],
      "source": [
        "l1 = [\"automobiles\", \"Honda\", \"Benz\", \"Suzuki\", \"Morris Garages\" ]\n",
        "\n",
        "l2 = []\n",
        "\n",
        "for i in l1 :\n",
        "    l2.append(len(i))\n",
        "    \n",
        "l2 "
      ]
    },
    {
      "cell_type": "markdown",
      "metadata": {
        "id": "-7TGmrBQbDUD"
      },
      "source": [
        "#### The Functional Approach"
      ]
    },
    {
      "cell_type": "code",
      "execution_count": null,
      "metadata": {
        "id": "ox2zXjX9bDUD",
        "outputId": "90ab41e8-4b56-49a5-b0ba-62124ff279f0"
      },
      "outputs": [
        {
          "name": "stdout",
          "output_type": "stream",
          "text": [
            "[11, 5, 4, 6, 14]\n"
          ]
        }
      ],
      "source": [
        "# Example on list comprehension\n",
        "\n",
        "l1 = [\"automobiles\", \"Honda\", \"Benz\", \"Suzuki\", \"Morris Garages\" ]\n",
        "\n",
        "# Create a list consisting of length of each element from the above list\n",
        "\n",
        "l2 = [len(i) for i in l1]\n",
        "\n",
        "print(l2)"
      ]
    },
    {
      "cell_type": "code",
      "execution_count": null,
      "metadata": {
        "id": "xDnpxsoCbDUE",
        "outputId": "ae8001d9-978c-4c2d-a278-cae0f597103c"
      },
      "outputs": [
        {
          "name": "stdout",
          "output_type": "stream",
          "text": [
            "automobiles  -  11\n",
            "Honda  -  5\n",
            "Benz  -  4\n",
            "Suzuki  -  6\n",
            "Morris Garages  -  14\n"
          ]
        }
      ],
      "source": [
        "# iterating over l1 and l2 simultaneaously\n",
        "\n",
        "for i,j in zip(l1,l2):\n",
        "    print(i, \" - \", j)"
      ]
    },
    {
      "cell_type": "markdown",
      "metadata": {
        "id": "Tcmet76jbDUJ"
      },
      "source": [
        "#### Dictionary comprehension"
      ]
    },
    {
      "cell_type": "code",
      "execution_count": null,
      "metadata": {
        "id": "shW4CBu_bDUK",
        "outputId": "97d526b1-b09c-48a6-d949-553668420562"
      },
      "outputs": [
        {
          "name": "stdout",
          "output_type": "stream",
          "text": [
            "{'automobiles': 11, 'Honda': 5, 'Benz': 4, 'Suzuki': 6, 'Morris Garages': 14}\n"
          ]
        }
      ],
      "source": [
        "# Example on dictionary comprehension\n",
        "\n",
        "l1 = [\"automobiles\", \"Honda\", \"Benz\", \"Suzuki\", \"Morris Garages\" ]\n",
        "\n",
        "# Create a dictionary consisting of element and length of each element from the above list\n",
        "\n",
        "d = {i : len(i) for i in l1}\n",
        "\n",
        "print(d)"
      ]
    },
    {
      "cell_type": "markdown",
      "metadata": {
        "id": "PEA4t5u0bDUL"
      },
      "source": [
        "#### Set Comprehensions\n",
        "\n",
        "#### Ex . Write a program which takes a word as input from user and returns vowels from the word"
      ]
    },
    {
      "cell_type": "code",
      "execution_count": null,
      "metadata": {
        "id": "OB2FMAVkbDUL",
        "outputId": "a1f44610-40ae-4364-c40f-5874d5b53f48"
      },
      "outputs": [
        {
          "name": "stdout",
          "output_type": "stream",
          "text": [
            "Enter a word : aeroplane\n"
          ]
        },
        {
          "data": {
            "text/plain": [
              "{'a', 'e', 'o'}"
            ]
          },
          "execution_count": 10,
          "metadata": {},
          "output_type": "execute_result"
        }
      ],
      "source": [
        "word = input(\"Enter a word : \")\n",
        "vowels = {i for i in word if i in \"aeiou\"}\n",
        "vowels"
      ]
    },
    {
      "cell_type": "markdown",
      "metadata": {
        "id": "tFyCqNJ6bDUL"
      },
      "source": [
        "<h2 style = \"color:Brown\">Functions</h2>\n",
        "\n",
        "#### Ex. Write a function which takes a value as a parameter and returns its factorial"
      ]
    },
    {
      "cell_type": "code",
      "execution_count": null,
      "metadata": {
        "id": "4A6tngpcbDUM",
        "outputId": "edafb16d-66b9-4db8-a81b-12737487b14c"
      },
      "outputs": [
        {
          "data": {
            "text/plain": [
              "120"
            ]
          },
          "execution_count": 23,
          "metadata": {},
          "output_type": "execute_result"
        }
      ],
      "source": [
        "def factorial(n):\n",
        "    \n",
        "    fact = 1\n",
        "    \n",
        "    for i in range(1, n+1):\n",
        "        fact *= i\n",
        "    \n",
        "    return fact\n",
        "\n",
        "factorial(5)"
      ]
    },
    {
      "cell_type": "markdown",
      "metadata": {
        "id": "1o2ysdFKbDUM"
      },
      "source": [
        "#### Default Argument"
      ]
    },
    {
      "cell_type": "code",
      "execution_count": null,
      "metadata": {
        "id": "YrchZWppbDUM"
      },
      "outputs": [],
      "source": [
        "def func(name, age = 35):\n",
        "    print(\"name : \", name)\n",
        "    print(\"age : \", age)"
      ]
    },
    {
      "cell_type": "code",
      "execution_count": null,
      "metadata": {
        "id": "BR9H55vqbDUM",
        "outputId": "60c1c142-be07-4169-b579-eed1802f31d7"
      },
      "outputs": [
        {
          "name": "stdout",
          "output_type": "stream",
          "text": [
            "name :  Jane\n",
            "age :  25\n"
          ]
        }
      ],
      "source": [
        "func(\"Jane\", 25)"
      ]
    },
    {
      "cell_type": "code",
      "execution_count": null,
      "metadata": {
        "id": "Vv8FOaXbbDUN",
        "outputId": "15c0598b-516c-425d-daf5-7eb00c38efac"
      },
      "outputs": [
        {
          "name": "stdout",
          "output_type": "stream",
          "text": [
            "name :  Jane\n",
            "age :  35\n"
          ]
        }
      ],
      "source": [
        "func(\"Jane\")"
      ]
    },
    {
      "cell_type": "code",
      "execution_count": null,
      "metadata": {
        "id": "osV8Ne-vbDUN",
        "outputId": "1384fa47-8af2-4bda-8cd7-21ade3739334"
      },
      "outputs": [
        {
          "name": "stdout",
          "output_type": "stream",
          "text": [
            "name :  Jane\n",
            "age :  35\n",
            "city :  Banglore\n"
          ]
        }
      ],
      "source": [
        "def func(name, age = 35, city = \"Mumbai\"):\n",
        "    print(\"name : \", name)\n",
        "    print(\"age : \", age)\n",
        "    print(\"city : \", city)\n",
        "    \n",
        "func(\"Jane\", city = \"Banglore\")"
      ]
    },
    {
      "cell_type": "code",
      "execution_count": null,
      "metadata": {
        "id": "uQTbnMzpbDUN",
        "outputId": "ad9fa59d-5b54-4198-c955-b4e6d3bdfbb5"
      },
      "outputs": [
        {
          "name": "stdout",
          "output_type": "stream",
          "text": [
            "(1, 3, 'abc')\n"
          ]
        }
      ],
      "source": [
        "def var_func(*args):\n",
        "    print(args)\n",
        "    \n",
        "var_func(1,3,\"abc\")"
      ]
    },
    {
      "cell_type": "markdown",
      "metadata": {
        "id": "Sn8iPheIbDUN"
      },
      "source": [
        "<h2 style = \"color:Brown\"> Lambda Function"
      ]
    },
    {
      "cell_type": "code",
      "execution_count": null,
      "metadata": {
        "id": "XpWIZdBZbDUN",
        "outputId": "274fce4e-8647-4877-a04a-8229beecaa6e"
      },
      "outputs": [
        {
          "data": {
            "text/plain": [
              "'even'"
            ]
          },
          "execution_count": 18,
          "metadata": {},
          "output_type": "execute_result"
        }
      ],
      "source": [
        "# Write a lambda funtion to check a number is even or odd\n",
        "\n",
        "f = lambda x: \"even\" if x % 2 == 0 else \"odd\"\n",
        "\n",
        "f(10)"
      ]
    },
    {
      "cell_type": "markdown",
      "metadata": {
        "id": "FMWcwarkbDUO"
      },
      "source": [
        "#### Ex. Write a lambda function to perform addition of two numbers"
      ]
    },
    {
      "cell_type": "code",
      "execution_count": null,
      "metadata": {
        "id": "DNQtUCs6bDUO",
        "outputId": "47812b8a-5e3e-423c-a324-2700a0880096"
      },
      "outputs": [
        {
          "data": {
            "text/plain": [
              "7"
            ]
          },
          "execution_count": 24,
          "metadata": {},
          "output_type": "execute_result"
        }
      ],
      "source": [
        "f = lambda x, y : x + y\n",
        "\n",
        "f(2,5)"
      ]
    },
    {
      "cell_type": "markdown",
      "metadata": {
        "id": "kPZSggpqbDUP"
      },
      "source": [
        "<h2 style = \"color:Brown\">map - filter - reduce"
      ]
    },
    {
      "cell_type": "code",
      "execution_count": null,
      "metadata": {
        "id": "AoPrfkEkbDUP"
      },
      "outputs": [],
      "source": [
        "countries = [\"India\", \"Japan\", \"Italy\", \"France\"]"
      ]
    },
    {
      "cell_type": "markdown",
      "metadata": {
        "id": "4e3AAEvKbDUP"
      },
      "source": [
        "#### map the list to obtained the names of countries in upper case"
      ]
    },
    {
      "cell_type": "code",
      "execution_count": null,
      "metadata": {
        "id": "-amenUObbDUQ",
        "outputId": "74ac56f8-5d9c-4107-dd44-67e9cbed066b"
      },
      "outputs": [
        {
          "data": {
            "text/plain": [
              "['INDIA', 'JAPAN', 'ITALY', 'FRANCE']"
            ]
          },
          "execution_count": 24,
          "metadata": {},
          "output_type": "execute_result"
        }
      ],
      "source": [
        "list(map(lambda x : x.upper(), countries))"
      ]
    },
    {
      "cell_type": "markdown",
      "metadata": {
        "id": "pFAReGNebDUQ"
      },
      "source": [
        "#### filter the countries names starting with \"I\""
      ]
    },
    {
      "cell_type": "code",
      "execution_count": null,
      "metadata": {
        "id": "Iq7KOmdHbDUQ",
        "outputId": "39b6edb8-a98d-41e2-d0b9-f89afefcbfd6"
      },
      "outputs": [
        {
          "data": {
            "text/plain": [
              "['India', 'Italy']"
            ]
          },
          "execution_count": 25,
          "metadata": {},
          "output_type": "execute_result"
        }
      ],
      "source": [
        "list(filter(lambda x : x.startswith(\"I\"), countries))"
      ]
    },
    {
      "cell_type": "markdown",
      "metadata": {
        "id": "7r_o26lpbDUQ"
      },
      "source": [
        "#### reduce the list to concatante the countries names into a single string variable seperated by \" \""
      ]
    },
    {
      "cell_type": "code",
      "execution_count": null,
      "metadata": {
        "id": "535D8_pBbDUQ",
        "outputId": "dc81367e-3232-48a4-b8f5-d378378b5bac"
      },
      "outputs": [
        {
          "data": {
            "text/plain": [
              "'India Japan Italy France'"
            ]
          },
          "execution_count": 27,
          "metadata": {},
          "output_type": "execute_result"
        }
      ],
      "source": [
        "from functools import reduce\n",
        "\n",
        "reduce(lambda x, y : x + \" \" + y, countries)"
      ]
    },
    {
      "cell_type": "markdown",
      "metadata": {
        "id": "YEeSzbp4bDUR"
      },
      "source": [
        "#### Some more examples on map - filter - reduce"
      ]
    },
    {
      "cell_type": "code",
      "execution_count": null,
      "metadata": {
        "id": "X2luYZ3hbDUR",
        "outputId": "fba201f3-afaf-456e-bdbf-5abaac8f0ad8"
      },
      "outputs": [
        {
          "name": "stdout",
          "output_type": "stream",
          "text": [
            "<map object at 0x000002200C31F5C0>\n",
            "[4, 16, 25]\n"
          ]
        }
      ],
      "source": [
        "L1 = [2,4,5]\n",
        "print(map(lambda x: x**2, L1))\n",
        "print(list(map(lambda x: x**2, L1)))"
      ]
    },
    {
      "cell_type": "markdown",
      "metadata": {
        "id": "fDT75uApbDUR"
      },
      "source": [
        "#### Defining a function and using it in map"
      ]
    },
    {
      "cell_type": "code",
      "execution_count": null,
      "metadata": {
        "id": "HSMtl2tgbDUR",
        "outputId": "df836d15-b6d8-461f-9aa4-8a1e8dddc6ff"
      },
      "outputs": [
        {
          "name": "stdout",
          "output_type": "stream",
          "text": [
            "[4, 16, 25]\n"
          ]
        }
      ],
      "source": [
        "L1 = [2,4,5]\n",
        "def squareit(n):\n",
        "    return n**2\n",
        "\n",
        "print(list(map(squareit, L1)))"
      ]
    },
    {
      "cell_type": "markdown",
      "metadata": {
        "id": "hLx3-J1XbDUR"
      },
      "source": [
        "#### Filter function to return the multiples of 3 "
      ]
    },
    {
      "cell_type": "code",
      "execution_count": null,
      "metadata": {
        "id": "bZqyyIx7bDUS",
        "outputId": "0c64acb4-c3fd-4924-c1e6-6d141541b8fa"
      },
      "outputs": [
        {
          "name": "stdout",
          "output_type": "stream",
          "text": [
            "[3, 6, 9]\n"
          ]
        }
      ],
      "source": [
        "my_list = [3,4,5,6,7,8,9]\n",
        "\n",
        "divby3 = lambda x:  x % 3 == 0\n",
        "\n",
        "div = filter(divby3, my_list)\n",
        "print(list(div))\n"
      ]
    },
    {
      "cell_type": "markdown",
      "metadata": {
        "id": "kh_79NcBbDUS"
      },
      "source": [
        "#### Ex. Write a python program to count the students above age 18"
      ]
    },
    {
      "cell_type": "code",
      "execution_count": null,
      "metadata": {
        "id": "fUJDSgnnbDUS",
        "outputId": "9b2e52d6-9669-40de-a3ce-fa37272c1958"
      },
      "outputs": [
        {
          "data": {
            "text/plain": [
              "2"
            ]
          },
          "execution_count": 41,
          "metadata": {},
          "output_type": "execute_result"
        }
      ],
      "source": [
        "students_data = {1:['Sam', 15] , 2:['Sharma',18], 3:['Saina', 16], 4:['Saif',19], 5:['Varun',20]}\n",
        "\n",
        "len(list(filter(lambda x : x[1] > 18, students_data.values())))"
      ]
    },
    {
      "cell_type": "markdown",
      "metadata": {
        "id": "nL0_DN6vbDUS"
      },
      "source": [
        "#### Reduce to return product of elements"
      ]
    },
    {
      "cell_type": "code",
      "execution_count": null,
      "metadata": {
        "id": "ZtwjYYKCbDUS",
        "outputId": "3384cd29-0ba0-41c5-df71-5b0f4e451e15"
      },
      "outputs": [
        {
          "name": "stdout",
          "output_type": "stream",
          "text": [
            "6\n"
          ]
        }
      ],
      "source": [
        "from functools import reduce\n",
        "\n",
        "q  = reduce(lambda x, y: x*y, range(1,4))\n",
        "\n",
        "print(q)"
      ]
    }
  ],
  "metadata": {
    "kernelspec": {
      "display_name": "Python 3",
      "language": "python",
      "name": "python3"
    },
    "language_info": {
      "codemirror_mode": {
        "name": "ipython",
        "version": 3
      },
      "file_extension": ".py",
      "mimetype": "text/x-python",
      "name": "python",
      "nbconvert_exporter": "python",
      "pygments_lexer": "ipython3",
      "version": "3.7.0"
    },
    "colab": {
      "name": "DS_python_Session+3.ipynb",
      "provenance": [],
      "include_colab_link": true
    }
  },
  "nbformat": 4,
  "nbformat_minor": 0
}