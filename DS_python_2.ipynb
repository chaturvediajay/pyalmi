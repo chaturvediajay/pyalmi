{
  "cells": [
    {
      "cell_type": "markdown",
      "metadata": {
        "id": "view-in-github",
        "colab_type": "text"
      },
      "source": [
        "<a href=\"https://colab.research.google.com/github/chaturvediajay/pyalmi/blob/main/DS_python_2.ipynb\" target=\"_parent\"><img src=\"https://colab.research.google.com/assets/colab-badge.svg\" alt=\"Open In Colab\"/></a>"
      ]
    },
    {
      "cell_type": "markdown",
      "metadata": {
        "id": "rcUxv0rdx4Yh"
      },
      "source": [
        "<h1 style=\"color:Brown\"> Tuples </h1>\n",
        "\n",
        "- Tuples are an ordered sequnce of mixed data types.\n",
        "- Tuples are written as comma-separated  elements within parenthesis\n"
      ]
    },
    {
      "cell_type": "code",
      "execution_count": null,
      "metadata": {
        "colab": {
          "base_uri": "https://localhost:8080/"
        },
        "id": "SuhfcLJpx4Ym",
        "outputId": "1d04de67-0822-4ccc-d9ad-4d92e7a46f0a"
      },
      "outputs": [
        {
          "output_type": "execute_result",
          "data": {
            "text/plain": [
              "('disco', 12, 4.5)"
            ]
          },
          "metadata": {},
          "execution_count": 4
        }
      ],
      "source": [
        "t = (\"disco\", 12, 4.5)\n",
        "t"
      ]
    },
    {
      "cell_type": "code",
      "execution_count": null,
      "metadata": {
        "colab": {
          "base_uri": "https://localhost:8080/"
        },
        "id": "ish9IV7Qx4Yq",
        "outputId": "4f0155e5-b318-463f-ef37-00bf3fdf07b6"
      },
      "outputs": [
        {
          "output_type": "execute_result",
          "data": {
            "text/plain": [
              "tuple"
            ]
          },
          "metadata": {},
          "execution_count": 5
        }
      ],
      "source": [
        "type(t)"
      ]
    },
    {
      "cell_type": "markdown",
      "metadata": {
        "id": "jStu3yQ5x4Ys"
      },
      "source": [
        "<h3> Tuples can be defined is various ways </h3>"
      ]
    },
    {
      "cell_type": "markdown",
      "metadata": {
        "id": "_13muPrzx4Ys"
      },
      "source": [
        "#### A tuple can be defined without using parenthesis "
      ]
    },
    {
      "cell_type": "code",
      "execution_count": null,
      "metadata": {
        "colab": {
          "base_uri": "https://localhost:8080/"
        },
        "id": "A28oKiGfx4Yt",
        "outputId": "3f59836a-5daa-4f8c-c6df-ad117313a268"
      },
      "outputs": [
        {
          "output_type": "stream",
          "name": "stdout",
          "text": [
            "(1, 2, 3, 4)\n"
          ]
        }
      ],
      "source": [
        "sample_tuple = 1,2,3,4\n",
        "\n",
        "print(sample_tuple)"
      ]
    },
    {
      "cell_type": "markdown",
      "metadata": {
        "id": "aiQAjavKx4Yv"
      },
      "source": [
        "#### single value tuple"
      ]
    },
    {
      "cell_type": "code",
      "execution_count": null,
      "metadata": {
        "colab": {
          "base_uri": "https://localhost:8080/"
        },
        "id": "5g33S1TCx4Yw",
        "outputId": "46f49da0-f385-4834-82d7-6ee9d22f2b70"
      },
      "outputs": [
        {
          "output_type": "stream",
          "name": "stdout",
          "text": [
            "(1,)\n"
          ]
        }
      ],
      "source": [
        "sample_tuple = 1,  \n",
        "print(sample_tuple)"
      ]
    },
    {
      "cell_type": "code",
      "execution_count": null,
      "metadata": {
        "colab": {
          "base_uri": "https://localhost:8080/"
        },
        "id": "NntGaO4kx4Yx",
        "outputId": "277a2a03-bc19-4afc-e143-624a92a78e08"
      },
      "outputs": [
        {
          "output_type": "stream",
          "name": "stdout",
          "text": [
            "(1,)\n"
          ]
        }
      ],
      "source": [
        "sample_tuple = (1,)  \n",
        "print(sample_tuple)"
      ]
    },
    {
      "cell_type": "code",
      "execution_count": null,
      "metadata": {
        "id": "0qvq97x3x4Yy"
      },
      "outputs": [],
      "source": [
        "sample_tuple1 = 1   #This is not a tuple"
      ]
    },
    {
      "cell_type": "code",
      "execution_count": null,
      "metadata": {
        "id": "DVR6jPN9x4Yz"
      },
      "outputs": [],
      "source": [
        "sample_tuple2 = (1) # This is not a tuple"
      ]
    },
    {
      "cell_type": "markdown",
      "metadata": {
        "id": "kjOMOVwIx4Yz"
      },
      "source": [
        "### Indexing in tuples"
      ]
    },
    {
      "cell_type": "code",
      "execution_count": null,
      "metadata": {
        "id": "5884W50bx4Y1"
      },
      "outputs": [],
      "source": [
        "t = (\"Mumbai\", 84, \"Python\",)"
      ]
    },
    {
      "cell_type": "code",
      "execution_count": null,
      "metadata": {
        "colab": {
          "base_uri": "https://localhost:8080/"
        },
        "id": "GSEGlRpmx4Y1",
        "outputId": "7e14dbf8-ed09-4e78-99b5-fad60387b4b5"
      },
      "outputs": [
        {
          "output_type": "execute_result",
          "data": {
            "text/plain": [
              "84"
            ]
          },
          "metadata": {},
          "execution_count": 12
        }
      ],
      "source": [
        "# gives the element at index location 1\n",
        "t[1]"
      ]
    },
    {
      "cell_type": "code",
      "execution_count": null,
      "metadata": {
        "colab": {
          "base_uri": "https://localhost:8080/",
          "height": 35
        },
        "id": "dp0G0OQpx4Y2",
        "outputId": "1e796e55-e522-48dc-f668-30e956926825"
      },
      "outputs": [
        {
          "output_type": "execute_result",
          "data": {
            "application/vnd.google.colaboratory.intrinsic+json": {
              "type": "string"
            },
            "text/plain": [
              "'Python'"
            ]
          },
          "metadata": {},
          "execution_count": 13
        }
      ],
      "source": [
        "# gives the last element from tuple\n",
        "t[-1]"
      ]
    },
    {
      "cell_type": "markdown",
      "metadata": {
        "id": "2QHCfJQfx4Y3"
      },
      "source": [
        "### Slicing"
      ]
    },
    {
      "cell_type": "code",
      "execution_count": null,
      "metadata": {
        "colab": {
          "base_uri": "https://localhost:8080/"
        },
        "id": "orr4WhRIx4Y3",
        "outputId": "510277db-40a5-4b1d-cd7e-9b2b28404e0c"
      },
      "outputs": [
        {
          "output_type": "execute_result",
          "data": {
            "text/plain": [
              "('Mumbai', 84, 'Python')"
            ]
          },
          "metadata": {},
          "execution_count": 14
        }
      ],
      "source": [
        "# Slicing first 3 elements from t\n",
        "\n",
        "t = (\"Mumbai\", 84, \"Python\", 5, 2, 1)\n",
        "\n",
        "t[0:3]"
      ]
    },
    {
      "cell_type": "code",
      "execution_count": null,
      "metadata": {
        "colab": {
          "base_uri": "https://localhost:8080/"
        },
        "id": "B40ZW6aEx4Y4",
        "outputId": "49169489-db1a-4daf-97d1-0cb9d621ade4"
      },
      "outputs": [
        {
          "output_type": "execute_result",
          "data": {
            "text/plain": [
              "(2, 1)"
            ]
          },
          "metadata": {},
          "execution_count": 15
        }
      ],
      "source": [
        "# Slicing last 2 elements from t\n",
        "\n",
        "t = (\"Mumbai\", 84, \"Python\", 5, 2, 1)\n",
        "\n",
        "t[-2:]"
      ]
    },
    {
      "cell_type": "code",
      "execution_count": null,
      "metadata": {
        "colab": {
          "base_uri": "https://localhost:8080/"
        },
        "id": "b-9gHDFOx4Y7",
        "outputId": "7357f0cf-903f-4e17-8c47-a64cfdf50741"
      },
      "outputs": [
        {
          "output_type": "execute_result",
          "data": {
            "text/plain": [
              "6"
            ]
          },
          "metadata": {},
          "execution_count": 16
        }
      ],
      "source": [
        "# no. of elements in tuple t\n",
        "t = (\"Mumbai\", 84, \"Python\", 5, 2, 1)\n",
        "len(t)"
      ]
    },
    {
      "cell_type": "markdown",
      "metadata": {
        "id": "9JYMxc-8x4Y8"
      },
      "source": [
        "#### Cancatenating tuples"
      ]
    },
    {
      "cell_type": "code",
      "execution_count": null,
      "metadata": {
        "colab": {
          "base_uri": "https://localhost:8080/"
        },
        "id": "STUXQM_vx4Y9",
        "outputId": "cb773b4e-feeb-4d80-df07-27a8a6e7fce9"
      },
      "outputs": [
        {
          "output_type": "execute_result",
          "data": {
            "text/plain": [
              "('This', 'is', 'Session', 2, 'on', 'Tuples')"
            ]
          },
          "metadata": {},
          "execution_count": 17
        }
      ],
      "source": [
        "tup1 = (\"This\", \"is\", \"Session\", 2)\n",
        "tup2 = (\"on\", \"Tuples\")\n",
        "\n",
        "# Adding contents of tup2 to tup1 and storing in tup3\n",
        "\n",
        "tup3 = tup1 + tup2\n",
        "\n",
        "tup3"
      ]
    },
    {
      "cell_type": "code",
      "source": [
        ""
      ],
      "metadata": {
        "id": "piR5qZh5yva7"
      },
      "execution_count": null,
      "outputs": []
    },
    {
      "cell_type": "markdown",
      "metadata": {
        "id": "DtLoOatJx4Y9"
      },
      "source": [
        "#### sum() - min() - max()"
      ]
    },
    {
      "cell_type": "code",
      "execution_count": null,
      "metadata": {
        "colab": {
          "base_uri": "https://localhost:8080/"
        },
        "id": "B7-f3257x4Y-",
        "outputId": "3c30a33d-1ce7-4778-aed8-82fa66f79090"
      },
      "outputs": [
        {
          "output_type": "execute_result",
          "data": {
            "text/plain": [
              "21"
            ]
          },
          "metadata": {},
          "execution_count": 18
        }
      ],
      "source": [
        "t = (2, 4, 3, 5, 7)\n",
        "sum(t)"
      ]
    },
    {
      "cell_type": "code",
      "execution_count": null,
      "metadata": {
        "colab": {
          "base_uri": "https://localhost:8080/"
        },
        "id": "Uqlnzt4jx4Y-",
        "outputId": "d140115c-789c-4342-a702-ce3535d81b6d"
      },
      "outputs": [
        {
          "output_type": "execute_result",
          "data": {
            "text/plain": [
              "2"
            ]
          },
          "metadata": {},
          "execution_count": 19
        }
      ],
      "source": [
        "t = (2, 4, 3, 5, 7)\n",
        "min(t)"
      ]
    },
    {
      "cell_type": "code",
      "execution_count": null,
      "metadata": {
        "colab": {
          "base_uri": "https://localhost:8080/"
        },
        "id": "Pz5yDbFXx4Y_",
        "outputId": "92e49ca3-8a59-4268-ccb5-0383d55cbaf2"
      },
      "outputs": [
        {
          "output_type": "execute_result",
          "data": {
            "text/plain": [
              "7"
            ]
          },
          "metadata": {},
          "execution_count": 20
        }
      ],
      "source": [
        "t = (2, 4, 3, 5, 7)\n",
        "max(t)"
      ]
    },
    {
      "cell_type": "code",
      "source": [
        "ts = (2,3.2,4,5)\n",
        "print(sum(ts),max(ts),min(ts))"
      ],
      "metadata": {
        "colab": {
          "base_uri": "https://localhost:8080/"
        },
        "id": "STzA2iLcyx7v",
        "outputId": "b0ba5a57-9363-480b-f036-f86ce13c3ba7"
      },
      "execution_count": null,
      "outputs": [
        {
          "output_type": "stream",
          "name": "stdout",
          "text": [
            "14.2 5 2\n"
          ]
        }
      ]
    },
    {
      "cell_type": "code",
      "source": [
        "t = (\"disco\", 12, 4.5)\n",
        "t[0][2]"
      ],
      "metadata": {
        "colab": {
          "base_uri": "https://localhost:8080/",
          "height": 35
        },
        "id": "Vdf41e0szRQb",
        "outputId": "9c230c8a-a90e-406a-b331-8bd0ee18b0bb"
      },
      "execution_count": null,
      "outputs": [
        {
          "output_type": "execute_result",
          "data": {
            "application/vnd.google.colaboratory.intrinsic+json": {
              "type": "string"
            },
            "text/plain": [
              "'s'"
            ]
          },
          "metadata": {},
          "execution_count": 24
        }
      ]
    },
    {
      "cell_type": "markdown",
      "metadata": {
        "id": "YIjyYsHAx4Y_"
      },
      "source": [
        "### Immutability of tuples"
      ]
    },
    {
      "cell_type": "code",
      "execution_count": null,
      "metadata": {
        "colab": {
          "base_uri": "https://localhost:8080/",
          "height": 201
        },
        "id": "fNKoE918x4ZA",
        "outputId": "4c78268e-1600-45c8-eedb-f3a70dbf7518"
      },
      "outputs": [
        {
          "output_type": "error",
          "ename": "TypeError",
          "evalue": "ignored",
          "traceback": [
            "\u001b[0;31m---------------------------------------------------------------------------\u001b[0m",
            "\u001b[0;31mTypeError\u001b[0m                                 Traceback (most recent call last)",
            "\u001b[0;32m<ipython-input-21-6471cd842493>\u001b[0m in \u001b[0;36m<module>\u001b[0;34m()\u001b[0m\n\u001b[1;32m      1\u001b[0m \u001b[0mt\u001b[0m \u001b[0;34m=\u001b[0m \u001b[0;34m(\u001b[0m\u001b[0;34m\"USA\"\u001b[0m\u001b[0;34m,\u001b[0m \u001b[0;36m4\u001b[0m\u001b[0;34m,\u001b[0m \u001b[0;36m3\u001b[0m\u001b[0;34m,\u001b[0m \u001b[0;34m\"Disco\"\u001b[0m\u001b[0;34m,\u001b[0m \u001b[0;36m7.5\u001b[0m\u001b[0;34m)\u001b[0m\u001b[0;34m\u001b[0m\u001b[0;34m\u001b[0m\u001b[0m\n\u001b[1;32m      2\u001b[0m \u001b[0;34m\u001b[0m\u001b[0m\n\u001b[0;32m----> 3\u001b[0;31m \u001b[0mt\u001b[0m\u001b[0;34m[\u001b[0m\u001b[0;36m3\u001b[0m\u001b[0;34m]\u001b[0m \u001b[0;34m=\u001b[0m \u001b[0;34m\"Hard Rock\"\u001b[0m\u001b[0;34m\u001b[0m\u001b[0;34m\u001b[0m\u001b[0m\n\u001b[0m",
            "\u001b[0;31mTypeError\u001b[0m: 'tuple' object does not support item assignment"
          ]
        }
      ],
      "source": [
        "t = (\"USA\", 4, 3, \"Disco\", 7.5)\n",
        "\n",
        "t[3] = \"Hard Rock\""
      ]
    },
    {
      "cell_type": "code",
      "execution_count": null,
      "metadata": {
        "id": "Fxd8Xiavx4ZA"
      },
      "outputs": [],
      "source": [
        "new_t = t[0:3] + (\"Hard Rock\",) + t[4:]\n",
        "new_t"
      ]
    },
    {
      "cell_type": "markdown",
      "metadata": {
        "id": "Wl6hkxRRx4ZA"
      },
      "source": [
        "### Sorting a tuple"
      ]
    },
    {
      "cell_type": "code",
      "execution_count": null,
      "metadata": {
        "id": "ex2SnB_3x4ZB"
      },
      "outputs": [],
      "source": [
        "t = (2,3,6,4,8,5)\n",
        "\n",
        "sorted(t)"
      ]
    },
    {
      "cell_type": "code",
      "execution_count": null,
      "metadata": {
        "id": "3ftrYkNPx4ZB"
      },
      "outputs": [],
      "source": [
        "# Nested Tuples\n",
        "\n",
        "t = (1,5,\"Disco\", (\"Python\", \"Java\"))\n",
        "\n",
        "# Access \"Java\" from the nested tuple\n",
        "t[3][1]"
      ]
    },
    {
      "cell_type": "code",
      "execution_count": null,
      "metadata": {
        "id": "Khkm6m_px4ZC"
      },
      "outputs": [],
      "source": [
        "d = {\"India\" : \"INR\", \"USA\" : \"Dollars\", \"France\" : \"Euros\", \"USA\" : \"USD\"}\n",
        "d"
      ]
    },
    {
      "cell_type": "markdown",
      "metadata": {
        "id": "WXUTVR-ix4ZC"
      },
      "source": [
        "### Packing and Unpacking In Tuples"
      ]
    },
    {
      "cell_type": "code",
      "execution_count": null,
      "metadata": {
        "id": "Mi359oYLx4ZC"
      },
      "outputs": [],
      "source": [
        "t = (1,2,3,4)     # Packing \n",
        "(a,b,c,d) = t     # Unpacking \n",
        "print (a)\n"
      ]
    },
    {
      "cell_type": "markdown",
      "metadata": {
        "id": "ltQhjIwYx4ZD"
      },
      "source": [
        "#### dir() - to view the attributes or methods of an object"
      ]
    },
    {
      "cell_type": "code",
      "execution_count": null,
      "metadata": {
        "id": "m27GgLOKx4ZD"
      },
      "outputs": [],
      "source": [
        "t = ()\n",
        "print(dir(t))"
      ]
    },
    {
      "cell_type": "markdown",
      "metadata": {
        "id": "nkAMyPUix4ZE"
      },
      "source": [
        "<h1 style=\"color:Brown\"> Lists </h1>\n",
        "\n",
        "- Lists are an ordered sequnce of mixed data types.\n",
        "- Lists are written as comma-separated  elements within square brackets"
      ]
    },
    {
      "cell_type": "code",
      "execution_count": null,
      "metadata": {
        "id": "CEEFSEkvx4ZE"
      },
      "outputs": [],
      "source": [
        "L = [\"India\", 23, 6, \"Mumbai\"]\n",
        "\n",
        "L"
      ]
    },
    {
      "cell_type": "code",
      "execution_count": null,
      "metadata": {
        "id": "cD92WTpvx4ZF"
      },
      "outputs": [],
      "source": [
        "# Nested List\n",
        "\n",
        "L = [\"Chemistry\", \"Biology\", [1989, 2004], (\"Oreily\", \"Pearson\")]\n",
        "\n",
        "L"
      ]
    },
    {
      "cell_type": "code",
      "execution_count": null,
      "metadata": {
        "id": "Q0yPMNczx4ZF"
      },
      "outputs": [],
      "source": [
        "# Indexing\n",
        "\n",
        "L = [\"Chemistry\", \"Biology\", [1989, 2004], (\"Oreily\", \"Pearson\")]\n",
        "\n",
        "L[0]"
      ]
    },
    {
      "cell_type": "code",
      "execution_count": null,
      "metadata": {
        "id": "ln3axrSkx4ZF"
      },
      "outputs": [],
      "source": [
        "L[-3]"
      ]
    },
    {
      "cell_type": "code",
      "execution_count": null,
      "metadata": {
        "id": "mWo5pMCVx4ZG"
      },
      "outputs": [],
      "source": [
        "# Slicing\n",
        "\n",
        "L[0:3]"
      ]
    },
    {
      "cell_type": "code",
      "execution_count": null,
      "metadata": {
        "id": "3-GTMrbyx4ZG"
      },
      "outputs": [],
      "source": [
        "# List Concatanetion\n",
        "\n",
        "L = [\"Chemistry\", \"Biology\", [1989, 2004], (\"Oreily\", \"Pearson\")]\n",
        "new_L = L + [5, 8]\n",
        "new_L"
      ]
    },
    {
      "cell_type": "code",
      "execution_count": null,
      "metadata": {
        "id": "2ux-pS-6x4ZH"
      },
      "outputs": [],
      "source": [
        "# Replace \"Biology\" with \"Physics\"\n",
        "\n",
        "L = [\"Chemistry\", \"Biology\", [1989, 2004], (\"Oreily\", \"Pearson\")]\n",
        "\n",
        "L[1] = \"Physics\"\n",
        "\n",
        "L"
      ]
    },
    {
      "cell_type": "code",
      "execution_count": null,
      "metadata": {
        "id": "L9nMjV6Bx4ZH"
      },
      "outputs": [],
      "source": [
        "# extend()\n",
        "\n",
        "L = [\"Chemistry\", \"Biology\", [1989, 2004], (\"Oreily\", \"Pearson\")]\n",
        "L.extend([5, 8])\n",
        "L"
      ]
    },
    {
      "cell_type": "code",
      "execution_count": null,
      "metadata": {
        "id": "yMEUsAM3x4ZI"
      },
      "outputs": [],
      "source": [
        "# append()\n",
        "\n",
        "L = [\"Chemistry\", \"Biology\", [1989, 2004], (\"Oreily\", \"Pearson\")]\n",
        "L.append([5, 8])\n",
        "L"
      ]
    },
    {
      "cell_type": "code",
      "execution_count": null,
      "metadata": {
        "id": "KbieHyFBx4ZI"
      },
      "outputs": [],
      "source": [
        "# del Command\n",
        "\n",
        "L = [\"Chemistry\", \"Biology\", [1989, 2004], (\"Oreily\", \"Pearson\")]\n",
        "del L[0]\n",
        "L"
      ]
    },
    {
      "cell_type": "code",
      "execution_count": null,
      "metadata": {
        "id": "HmcNFMoSx4ZI"
      },
      "outputs": [],
      "source": [
        "# pop() \n",
        "\n",
        "L = [\"Chemistry\", \"Biology\", [1989, 2004], (\"Oreily\", \"Pearson\")]\n",
        "\n",
        "L.pop()\n",
        "\n",
        "L"
      ]
    },
    {
      "cell_type": "code",
      "execution_count": null,
      "metadata": {
        "id": "mlJiz1TEx4ZJ"
      },
      "outputs": [],
      "source": [
        "# remove()\n",
        "\n",
        "L = [\"Chemistry\", \"Biology\", [1989, 2004], (\"Oreily\", \"Pearson\")]\n",
        "\n",
        "L.remove(\"Chemistry\")\n",
        "\n",
        "L"
      ]
    },
    {
      "cell_type": "code",
      "execution_count": null,
      "metadata": {
        "id": "JRMMYiDEx4ZJ"
      },
      "outputs": [],
      "source": [
        "# Sorting Lists\n",
        "\n",
        "l = [32, 24, 65, 9]\n",
        "l.sort()\n",
        "l"
      ]
    },
    {
      "cell_type": "code",
      "execution_count": null,
      "metadata": {
        "id": "TpJGjOQ7x4ZK"
      },
      "outputs": [],
      "source": [
        "l.sort(reverse= True)\n",
        "l"
      ]
    },
    {
      "cell_type": "markdown",
      "metadata": {
        "id": "aqE1XvdIx4ZK"
      },
      "source": [
        "#### Difference between sort and sorted"
      ]
    },
    {
      "cell_type": "code",
      "execution_count": null,
      "metadata": {
        "id": "F9ekHsqrx4ZK"
      },
      "outputs": [],
      "source": [
        "A = [\"Orange\", \"Strawberry\", \"Mango\"]\n",
        "B = A.sort()\n",
        "\n",
        "print(A)\n",
        "print(B)"
      ]
    },
    {
      "cell_type": "code",
      "execution_count": null,
      "metadata": {
        "id": "1LmDiIfnx4ZL"
      },
      "outputs": [],
      "source": [
        "A = [\"Orange\", \"Strawberry\", \"Mango\"]\n",
        "C = sorted(A)\n",
        "\n",
        "print(A)\n",
        "print(C)"
      ]
    },
    {
      "cell_type": "markdown",
      "metadata": {
        "id": "SNykAeKpx4ZL"
      },
      "source": [
        "#### Shallow Copying"
      ]
    },
    {
      "cell_type": "code",
      "execution_count": null,
      "metadata": {
        "id": "gP8w6oI8x4ZL"
      },
      "outputs": [],
      "source": [
        "A = [\"Orange\", \"Strawberry\", \"Mango\"]\n",
        "B = A\n",
        "\n",
        "A[0] = \"Apple\""
      ]
    },
    {
      "cell_type": "code",
      "execution_count": null,
      "metadata": {
        "id": "t-8BjOK0x4ZL"
      },
      "outputs": [],
      "source": [
        "A"
      ]
    },
    {
      "cell_type": "code",
      "execution_count": null,
      "metadata": {
        "id": "2Q8_7YoXx4ZM"
      },
      "outputs": [],
      "source": [
        "B"
      ]
    },
    {
      "cell_type": "code",
      "execution_count": null,
      "metadata": {
        "id": "9s-LePfax4ZM"
      },
      "outputs": [],
      "source": [
        "A = [\"Orange\", \"Strawberry\", \"Mango\"]\n",
        "B = A[:]\n",
        "\n",
        "A[0] = \"Apple\""
      ]
    },
    {
      "cell_type": "code",
      "execution_count": null,
      "metadata": {
        "id": "VkAdmWBtx4ZM"
      },
      "outputs": [],
      "source": [
        "A"
      ]
    },
    {
      "cell_type": "code",
      "execution_count": null,
      "metadata": {
        "id": "weKKLRMix4ZN"
      },
      "outputs": [],
      "source": [
        "B"
      ]
    },
    {
      "cell_type": "markdown",
      "metadata": {
        "id": "XabNvcorx4ZN"
      },
      "source": [
        "<h1 style=\"color:Brown\"> Sets </h1>\n",
        "\n",
        "- Sets are a type of collection like lists and tuples, storing mixed data.\n",
        "- Sets are enclosed within curly brackets and elements are written as comma-separated.\n",
        "- Sets are unordered\n",
        "- Sets does not allow duplicates"
      ]
    },
    {
      "cell_type": "code",
      "execution_count": null,
      "metadata": {
        "id": "2Rdrftezx4ZN"
      },
      "outputs": [],
      "source": [
        "l = [1,3,2,4,5,5]\n",
        "\n",
        "set_l = set(l)\n",
        "\n",
        "set_l"
      ]
    },
    {
      "cell_type": "code",
      "execution_count": null,
      "metadata": {
        "id": "FsGaAp_Vx4ZN"
      },
      "outputs": [],
      "source": [
        "len(set_l)"
      ]
    },
    {
      "cell_type": "code",
      "execution_count": null,
      "metadata": {
        "id": "boO5xkHYx4ZN"
      },
      "outputs": [],
      "source": [
        "a = {1, 2, 3, 4, 5}\n",
        "\n",
        "a.add(\"India\")\n",
        "\n",
        "a"
      ]
    },
    {
      "cell_type": "code",
      "execution_count": null,
      "metadata": {
        "id": "RJ03fXnux4ZO"
      },
      "outputs": [],
      "source": [
        "a.add(\"India\")\n",
        "a"
      ]
    },
    {
      "cell_type": "code",
      "execution_count": null,
      "metadata": {
        "id": "PZit0kPnx4ZO"
      },
      "outputs": [],
      "source": [
        "a = {1, 2, 3, 4, 5, \"India\"}\n",
        "a.remove(\"India\")\n",
        "a"
      ]
    },
    {
      "cell_type": "code",
      "execution_count": null,
      "metadata": {
        "id": "5c81LG8mx4ZO"
      },
      "outputs": [],
      "source": [
        "# Set Operations\n",
        "\n",
        "A = {0, 2, 4, 6, 8}\n",
        "B = {1, 2, 3, 4, 5}"
      ]
    },
    {
      "cell_type": "code",
      "execution_count": null,
      "metadata": {
        "id": "F8AZskTZx4ZO"
      },
      "outputs": [],
      "source": [
        "print(A | B) # Union"
      ]
    },
    {
      "cell_type": "code",
      "execution_count": null,
      "metadata": {
        "id": "n-Ng--9ex4ZP"
      },
      "outputs": [],
      "source": [
        "print(A & B) # Intersection"
      ]
    },
    {
      "cell_type": "code",
      "execution_count": null,
      "metadata": {
        "id": "vYO9NgvXx4ZP"
      },
      "outputs": [],
      "source": [
        "print(A - B) # Difference"
      ]
    },
    {
      "cell_type": "code",
      "execution_count": null,
      "metadata": {
        "id": "4LwFgkx2x4ZP"
      },
      "outputs": [],
      "source": [
        "print(A ^ B) # Symmetric Difference"
      ]
    },
    {
      "cell_type": "markdown",
      "metadata": {
        "id": "-8nnVjsvx4ZP"
      },
      "source": [
        "<h1 style=\"color:Brown\"> Dictionaries </h1>\n",
        "\n",
        "- A dictionary stores element as keys and values pairs.\n",
        "- The key is like an index, its is always unique and immutable. \n",
        "- The values are the objects that contain information.\n",
        "- Values are accessed using their keys.\n",
        "- Each key is followed by a value separated by a colon. \n",
        "- The values can be immutable, mutable, and duplicates. \n",
        "- Each key and value pair is separated by a comma enclosed inside curly brackets."
      ]
    },
    {
      "cell_type": "code",
      "execution_count": null,
      "metadata": {
        "id": "6uop_JRix4ZQ"
      },
      "outputs": [],
      "source": [
        "# Creating a dictionary\n",
        "\n",
        "d = {\"India\" : \"INR\", \"USA\" : \"USD\", \"France\" : \"Euros\"}\n",
        "\n",
        "# Access value using keys\n",
        "\n",
        "d[\"India\"]"
      ]
    },
    {
      "cell_type": "code",
      "execution_count": null,
      "metadata": {
        "id": "XKCSF90Ex4ZQ"
      },
      "outputs": [],
      "source": [
        "# Replace the value for a key in a dictionary\n",
        "\n",
        "d[\"India\"] = \"Rs\"\n",
        "\n",
        "d"
      ]
    },
    {
      "cell_type": "code",
      "execution_count": null,
      "metadata": {
        "id": "X6bb-2sGx4ZQ"
      },
      "outputs": [],
      "source": [
        "# Insert new key value pair into a dictionary\n",
        "\n",
        "d[\"Japan\"] = \"Yen\"\n",
        "\n",
        "d"
      ]
    },
    {
      "cell_type": "code",
      "execution_count": null,
      "metadata": {
        "id": "THI878gAx4ZQ"
      },
      "outputs": [],
      "source": [
        "# Deleting a key value pair\n",
        "\n",
        "del d[\"France\"]\n",
        "\n",
        "d"
      ]
    },
    {
      "cell_type": "code",
      "execution_count": null,
      "metadata": {
        "id": "noIvAUS3x4ZQ"
      },
      "outputs": [],
      "source": [
        "# Sorting a dictionary\n",
        "\n",
        "sorted(d)"
      ]
    },
    {
      "cell_type": "code",
      "execution_count": null,
      "metadata": {
        "id": "wLA7sYlpx4Zd"
      },
      "outputs": [],
      "source": [
        "# Values() method\n",
        "\n",
        "d = {\"India\" : \"INR\", \"USA\" : \"USD\", \"France\" : \"Euros\"}\n",
        "d.values()"
      ]
    },
    {
      "cell_type": "code",
      "execution_count": null,
      "metadata": {
        "id": "-IkPSJ_Rx4Zf"
      },
      "outputs": [],
      "source": [
        "# Keys() method\n",
        "\n",
        "d.keys()"
      ]
    },
    {
      "cell_type": "code",
      "execution_count": null,
      "metadata": {
        "id": "6ltq-cS3x4Zg"
      },
      "outputs": [],
      "source": [
        "# Updat() method\n",
        "\n",
        "d.update({'India':'Rupee'})\n",
        "d"
      ]
    },
    {
      "cell_type": "code",
      "execution_count": 8,
      "metadata": {
        "id": "H3doloinx4Zg",
        "outputId": "bada7913-b41c-4ae9-f427-994dade9396d",
        "colab": {
          "base_uri": "https://localhost:8080/"
        }
      },
      "outputs": [
        {
          "output_type": "stream",
          "name": "stdout",
          "text": [
            "4\n"
          ]
        }
      ],
      "source": [
        "t = (1, 2, 4, 3)\n",
        "\n",
        "print(len(t))\n",
        "\n",
        "\n",
        "t=('2')\n"
      ]
    }
  ],
  "metadata": {
    "kernelspec": {
      "display_name": "Python 3",
      "language": "python",
      "name": "python3"
    },
    "language_info": {
      "codemirror_mode": {
        "name": "ipython",
        "version": 3
      },
      "file_extension": ".py",
      "mimetype": "text/x-python",
      "name": "python",
      "nbconvert_exporter": "python",
      "pygments_lexer": "ipython3",
      "version": "3.7.3"
    },
    "colab": {
      "name": "DS_python_2.ipynb",
      "provenance": [],
      "include_colab_link": true
    }
  },
  "nbformat": 4,
  "nbformat_minor": 0
}